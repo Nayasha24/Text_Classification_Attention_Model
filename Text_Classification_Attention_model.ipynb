{
  "nbformat": 4,
  "nbformat_minor": 0,
  "metadata": {
    "colab": {
      "provenance": [],
      "authorship_tag": "ABX9TyP4dh4b65siZRgyWQh8xVC2",
      "include_colab_link": true
    },
    "kernelspec": {
      "name": "python3",
      "display_name": "Python 3"
    },
    "language_info": {
      "name": "python"
    }
  },
  "cells": [
    {
      "cell_type": "markdown",
      "metadata": {
        "id": "view-in-github",
        "colab_type": "text"
      },
      "source": [
        "<a href=\"https://colab.research.google.com/github/Nayasha24/Admission-management-system/blob/main/Text_Classification_Attention_model.ipynb\" target=\"_parent\"><img src=\"https://colab.research.google.com/assets/colab-badge.svg\" alt=\"Open In Colab\"/></a>"
      ]
    },
    {
      "cell_type": "code",
      "execution_count": 1,
      "metadata": {
        "id": "_CQLe5vpET5h"
      },
      "outputs": [],
      "source": [
        "!mkdir -p ~/.kaggle\n",
        "!cp kaggle.json ~/.kaggle/"
      ]
    },
    {
      "cell_type": "code",
      "source": [
        "!kaggle datasets download -d matleonard/nlp-course"
      ],
      "metadata": {
        "colab": {
          "base_uri": "https://localhost:8080/"
        },
        "id": "-TvxdUbFGSdx",
        "outputId": "668a7fcb-e644-4f95-fa6b-61e985d2d605"
      },
      "execution_count": 2,
      "outputs": [
        {
          "output_type": "stream",
          "name": "stdout",
          "text": [
            "Warning: Your Kaggle API key is readable by other users on this system! To fix this, you can run 'chmod 600 /root/.kaggle/kaggle.json'\n",
            "Downloading nlp-course.zip to /content\n",
            " 99% 57.0M/57.8M [00:02<00:00, 37.0MB/s]\n",
            "100% 57.8M/57.8M [00:02<00:00, 25.9MB/s]\n"
          ]
        }
      ]
    },
    {
      "cell_type": "code",
      "source": [
        "import zipfile\n",
        "zip_ref = zipfile.ZipFile('/content/nlp-course.zip','r')\n",
        "zip_ref.extractall('/content')\n",
        "zip_ref.close()"
      ],
      "metadata": {
        "id": "4X8BzpGoGXf_"
      },
      "execution_count": 3,
      "outputs": []
    },
    {
      "cell_type": "code",
      "source": [
        "import numpy as np\n",
        "import pandas as pd\n",
        "from sklearn.model_selection import train_test_split\n",
        "from sklearn.preprocessing import LabelEncoder\n",
        "from keras.models import Model\n",
        "from keras.layers import Input, Embedding, LSTM, Dense, Bidirectional, Attention, Concatenate"
      ],
      "metadata": {
        "id": "uEvAe8wxGeDv"
      },
      "execution_count": 4,
      "outputs": []
    },
    {
      "cell_type": "code",
      "source": [
        "data = pd.read_csv('spam.csv')"
      ],
      "metadata": {
        "id": "9CKYBLArGhd2"
      },
      "execution_count": 5,
      "outputs": []
    },
    {
      "cell_type": "code",
      "source": [
        "texts = data['text'].values\n",
        "labels = data['label'].values"
      ],
      "metadata": {
        "id": "khAtV5dnGn3W"
      },
      "execution_count": 6,
      "outputs": []
    },
    {
      "cell_type": "code",
      "source": [
        "label_encoder = LabelEncoder()\n",
        "encoded_labels = label_encoder.fit_transform(labels)\n"
      ],
      "metadata": {
        "id": "NJ9sX4g3Gp01"
      },
      "execution_count": 7,
      "outputs": []
    },
    {
      "cell_type": "code",
      "source": [
        "x_train, x_test, y_train, y_test = train_test_split(texts, encoded_labels, test_size=0.2, random_state=42)"
      ],
      "metadata": {
        "id": "JYXFUH__Gssf"
      },
      "execution_count": 8,
      "outputs": []
    },
    {
      "cell_type": "code",
      "source": [
        "from keras.preprocessing.text import Tokenizer\n",
        "from keras.preprocessing.sequence import pad_sequences"
      ],
      "metadata": {
        "id": "32FWtNFFGwML"
      },
      "execution_count": 9,
      "outputs": []
    },
    {
      "cell_type": "code",
      "source": [
        "max_words = 10000\n",
        "max_len = 100\n",
        "tokenizer = Tokenizer(num_words=max_words)\n",
        "tokenizer.fit_on_texts(x_train)\n",
        "\n",
        "x_train_seq = tokenizer.texts_to_sequences(x_train)\n",
        "x_test_seq = tokenizer.texts_to_sequences(x_test)\n",
        "\n",
        "x_train_pad = pad_sequences(x_train_seq, maxlen=max_len)\n",
        "x_test_pad = pad_sequences(x_test_seq, maxlen=max_len)"
      ],
      "metadata": {
        "id": "rMFY6W_tGzS4"
      },
      "execution_count": 11,
      "outputs": []
    },
    {
      "cell_type": "code",
      "source": [
        "embedding_dim = 50\n",
        "lstm_units = 50"
      ],
      "metadata": {
        "id": "eRsfzSX1G4kp"
      },
      "execution_count": 12,
      "outputs": []
    },
    {
      "cell_type": "code",
      "source": [
        "input_layer = Input(shape=(max_len,))\n",
        "embedding_layer = Embedding(input_dim=max_words, output_dim=embedding_dim, input_length=max_len)(input_layer)\n",
        "bi_lstm_layer = Bidirectional(LSTM(lstm_units, return_sequences=True))(embedding_layer)\n",
        "attention = Attention()([bi_lstm_layer, bi_lstm_layer])\n",
        "context = Concatenate(axis=-1)([bi_lstm_layer, attention])\n",
        "output_layer = Dense(1, activation='sigmoid')(context[:, -1, :])\n",
        "\n"
      ],
      "metadata": {
        "id": "N4LgiMItG8h8"
      },
      "execution_count": 17,
      "outputs": []
    },
    {
      "cell_type": "code",
      "source": [
        "model = Model(inputs=input_layer, outputs=output_layer)\n",
        "\n",
        "model.compile(optimizer='adam', loss='binary_crossentropy', metrics=['accuracy'])\n"
      ],
      "metadata": {
        "id": "aTZrwTRVG_r2"
      },
      "execution_count": 18,
      "outputs": []
    },
    {
      "cell_type": "code",
      "source": [
        "model.fit(x_train_pad, y_train, epochs=5, batch_size=32, validation_data=(x_test_pad, y_test))"
      ],
      "metadata": {
        "colab": {
          "base_uri": "https://localhost:8080/"
        },
        "id": "uxRlOWfVHCZ5",
        "outputId": "21a2f6b7-5a4a-43dd-ab36-d5a22a641635"
      },
      "execution_count": 19,
      "outputs": [
        {
          "output_type": "stream",
          "name": "stdout",
          "text": [
            "Epoch 1/5\n",
            "140/140 [==============================] - 25s 137ms/step - loss: 0.2039 - accuracy: 0.9302 - val_loss: 0.0669 - val_accuracy: 0.9839\n",
            "Epoch 2/5\n",
            "140/140 [==============================] - 20s 141ms/step - loss: 0.0292 - accuracy: 0.9919 - val_loss: 0.0607 - val_accuracy: 0.9830\n",
            "Epoch 3/5\n",
            "140/140 [==============================] - 18s 129ms/step - loss: 0.0102 - accuracy: 0.9975 - val_loss: 0.0531 - val_accuracy: 0.9848\n",
            "Epoch 4/5\n",
            "140/140 [==============================] - 20s 142ms/step - loss: 0.0031 - accuracy: 0.9991 - val_loss: 0.0664 - val_accuracy: 0.9857\n",
            "Epoch 5/5\n",
            "140/140 [==============================] - 18s 130ms/step - loss: 5.1916e-04 - accuracy: 1.0000 - val_loss: 0.0806 - val_accuracy: 0.9848\n"
          ]
        },
        {
          "output_type": "execute_result",
          "data": {
            "text/plain": [
              "<keras.src.callbacks.History at 0x7ce6daa7e890>"
            ]
          },
          "metadata": {},
          "execution_count": 19
        }
      ]
    }
  ]
}